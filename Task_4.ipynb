{
 "cells": [
  {
   "cell_type": "markdown",
   "metadata": {},
   "source": [
    "# Training and smoothing a function using a quantum neural network\n",
    "\n",

    "This is a modernized implementation of Maria Schuld's original tutorial featuring a noisy sine wave as the training data. A _variational circuit_ is used to learn a one-dimensional real-valued function when being trained with a small or noisy sample. The variational circuit used is the continuous variable quantum neural network model, described by [Killoran et al. (2018)](https://arxiv.org/abs/1806.06871)."
   ]
  },
  {
   "cell_type": "code",
   "execution_count": null,
   "metadata": {},
   "outputs": [
    {
     "ename": "",
     "evalue": "",
     "output_type": "error",
     "traceback": [
      "\u001b[1;31mThe kernel failed to start as the Python Environment 'Python 3.12.2' is no longer available. Consider selecting another kernel or refreshing the list of Python Environments."
     ]
    }
   ],
   "source": [
    "# In this program we will train a circuit to model a sine function\n",
    "\n",
    "# We import the necessary libraries\n",
    "import pennylane as qml\n",
    "from pennylane import numpy as np\n",
    "import matplotlib.pyplot as plt\n",
    "\n",
    "# We create the training Data\n",
    "X = np.linspace(0, 7, 4)\n",
    "# We tell the optimizer that this is an input datapoint,\n",
    "# and not a parameter to optimize over.\n",
    "X.requires_grad = False\n",
    "Y = np.sin(X) # The outputs for the input datapoints\n",
    "\n",
    "# We create the test Data\n",
    "# 5 test datapoints, shifted from the training data by 0.2\n",
    "# Since we're not optimizing over the test data we\n",
    "# don't need to specify requires_grad = False\n",
    "X_test = np.linspace(0, 2*np.pi, 36)\n",
    "Y_test = np.sin(X_test) # The outputs for the test datapoints\n",
    "\n",
    "# Step 1 - Create the device\n",
    "# Here we use the 'default.qubit' simulator and 1 qubit (wires=1)\n",
    "dev = qml.device('default.qubit', wires=1)\n",
    "\n",
    "# Step 2 - Create the quantum circuit\n",
    "@qml.qnode(dev)\n",
    "def quantum_circuit(datapoint, params):\n",
    "    # Encode the input data as an RX rotation\n",
    "    qml.RX(datapoint, wires=0)\n",
    "    # Create a rotation based on the angles in \"params\"\n",
    "    qml.Rot(params[0], params[1], params[2], wires=0)\n",
    "    # We return the expected value of a measurement along the Z axis\n",
    "    return qml.expval(qml.PauliZ(wires=0))\n",
    "\n",
    "# Step 3 - Classical Pre/Postprocessing\n",
    "def loss_func(predictions):\n",
    "    # This is a postprocessing step. Here we use a least squares metric\n",
    "    # based on the predictions of the quantum circuit and the outputs\n",
    "    # of the training data points.\n",
    "\n",
    "    total_losses = 0\n",
    "    for i in range(len(Y)):\n",
    "        output = Y[i]\n",
    "        prediction = predictions[i]\n",
    "        loss = (prediction - output)**2\n",
    "        total_losses += loss\n",
    "    return total_losses\n",
    "\n",
    "# Step 4 - Define your cost function, including any classical pre/postprocessing\n",
    "def cost_fn(params):\n",
    "    # We get the predictions of the quantum circuit for a specific\n",
    "    # set of parameters along the entire input dataset\n",
    "    predictions = [quantum_circuit(x, params)  for x in X]\n",
    "    # We calculate the cost including any classical postprocessing\n",
    "    cost = loss_func(predictions)\n",
    "    return cost\n",
    "\n",
    "# Steps 5.1 and 5.2  - We define the optimizer\n",
    "opt = qml.GradientDescentOptimizer(stepsize=0.3)\n",
    "\n",
    "# Step 5.3 We make an initial guess for the parameters\n",
    "params = np.array([0.2,0.3,0.4],requires_grad=True)\n",
    "\n",
    "# Step 5.4 - We iterate over a number of defined steps (100)\n",
    "for i in range (250):\n",
    "    # Over each step the parameters change to give a better cost\n",
    "    params, prev_cost = opt.step_and_cost(cost_fn,params)\n",
    "    if i%10 == 0:\n",
    "         # We print the result after every 10 steps\n",
    "        print(f'Step = {i} Cost = {cost_fn(params)}')\n",
    "\n",
    "# Step 6 - Test and graph your results!\n",
    "test_predictions = []\n",
    "for x_test in X_test:\n",
    "    prediction = quantum_circuit(x_test,params)\n",
    "    test_predictions.append(prediction)\n",
    "\n",
    "fig = plt.figure()\n",
    "ax1 = fig.add_subplot(111)\n",
    "\n",
    "ax1.scatter(X_test,Y_test, s=60, c='r', marker=\"o\", label='Test outputs')\n",
    "ax1.scatter(X_test,test_predictions, s=30, c='k', marker=\"x\", label='Test predictions')\n",
    "ax1.scatter(X, Y, s=30, c='b', marker=\"s\", label='Train outputs')\n",
    "plt.xlabel(\"Inputs\")\n",
    "plt.ylabel(\"Outputs\")\n",
    "plt.title(\"QML results\")\n",
    "\n",
    "plt.legend(loc='upper right');\n",
    "plt.show()"
   ]
  }
 ],
 "metadata": {
  "kernelspec": {
   "display_name": "pennylane",
   "language": "python",
   "name": "python3"
  },
  "language_info": {
   "name": "python",
   "version": "3.12.2"
  }
 },
 "nbformat": 4,
 "nbformat_minor": 2
}
