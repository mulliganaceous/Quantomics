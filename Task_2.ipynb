{
  "cells": [
    {
      "cell_type": "markdown",
      "id": "AsVrPE45Rq7z",
      "metadata": {
        "id": "AsVrPE45Rq7z"
      },
      "source": [
        "## **Variational Quantum Classifier**"
      ]
    },
    {
      "cell_type": "markdown",
      "id": "b441ba23",
      "metadata": {
        "id": "b441ba23"
      },
      "source": [
        " This notebook attempts to explore the Pennylane tutorial, dedicated to Variational Quantum Classifier ([VQC](https://pennylane.ai/qml/demos/tutorial_variational_classifier/)). Two interesting tasks will be investigated, namely the imitation of the parity function and the classification of two classes in the well-known Iris dataset ([Iris](https://archive.ics.uci.edu/ml/machine-learning-databases/iris/iris.data/)).  After going through different levels of implementation for VQC, a different yet intriguing scheme, appropriate for classification tasks is stated, which we would like to consider and reflect upon for our future investigations."
      ]
    },
    {
      "cell_type": "code",
      "execution_count": 1,
      "id": "665MGE7nWHOF",
      "metadata": {
        "colab": {
          "base_uri": "https://localhost:8080/"
        },
        "id": "665MGE7nWHOF",
        "outputId": "6ff38d22-e15f-4485-8309-5c0f2eafa757"
      },
      "outputs": [
        {
          "output_type": "stream",
          "name": "stdout",
          "text": [
            "Collecting pennylane\n",
            "  Downloading PennyLane-0.37.0-py3-none-any.whl.metadata (9.3 kB)\n",
            "Requirement already satisfied: numpy<2.0 in /usr/local/lib/python3.10/dist-packages (from pennylane) (1.26.4)\n",
            "Requirement already satisfied: scipy in /usr/local/lib/python3.10/dist-packages (from pennylane) (1.13.1)\n",
            "Requirement already satisfied: networkx in /usr/local/lib/python3.10/dist-packages (from pennylane) (3.3)\n",
            "Collecting rustworkx (from pennylane)\n",
            "  Downloading rustworkx-0.15.1-cp38-abi3-manylinux_2_17_x86_64.manylinux2014_x86_64.whl.metadata (9.9 kB)\n",
            "Requirement already satisfied: autograd in /usr/local/lib/python3.10/dist-packages (from pennylane) (1.6.2)\n",
            "Requirement already satisfied: toml in /usr/local/lib/python3.10/dist-packages (from pennylane) (0.10.2)\n",
            "Collecting appdirs (from pennylane)\n",
            "  Downloading appdirs-1.4.4-py2.py3-none-any.whl.metadata (9.0 kB)\n",
            "Collecting semantic-version>=2.7 (from pennylane)\n",
            "  Downloading semantic_version-2.10.0-py2.py3-none-any.whl.metadata (9.7 kB)\n",
            "Collecting autoray>=0.6.11 (from pennylane)\n",
            "  Downloading autoray-0.6.12-py3-none-any.whl.metadata (5.7 kB)\n",
            "Requirement already satisfied: cachetools in /usr/local/lib/python3.10/dist-packages (from pennylane) (5.4.0)\n",
            "Collecting pennylane-lightning>=0.37 (from pennylane)\n",
            "  Downloading PennyLane_Lightning-0.37.0-cp310-cp310-manylinux_2_28_x86_64.whl.metadata (23 kB)\n",
            "Requirement already satisfied: requests in /usr/local/lib/python3.10/dist-packages (from pennylane) (2.32.3)\n",
            "Requirement already satisfied: typing-extensions in /usr/local/lib/python3.10/dist-packages (from pennylane) (4.12.2)\n",
            "Requirement already satisfied: packaging in /usr/local/lib/python3.10/dist-packages (from pennylane) (24.1)\n",
            "Requirement already satisfied: future>=0.15.2 in /usr/local/lib/python3.10/dist-packages (from autograd->pennylane) (1.0.0)\n",
            "Requirement already satisfied: charset-normalizer<4,>=2 in /usr/local/lib/python3.10/dist-packages (from requests->pennylane) (3.3.2)\n",
            "Requirement already satisfied: idna<4,>=2.5 in /usr/local/lib/python3.10/dist-packages (from requests->pennylane) (3.7)\n",
            "Requirement already satisfied: urllib3<3,>=1.21.1 in /usr/local/lib/python3.10/dist-packages (from requests->pennylane) (2.0.7)\n",
            "Requirement already satisfied: certifi>=2017.4.17 in /usr/local/lib/python3.10/dist-packages (from requests->pennylane) (2024.7.4)\n",
            "Downloading PennyLane-0.37.0-py3-none-any.whl (1.8 MB)\n",
            "\u001b[2K   \u001b[90m━━━━━━━━━━━━━━━━━━━━━━━━━━━━━━━━━━━━━━━━\u001b[0m \u001b[32m1.8/1.8 MB\u001b[0m \u001b[31m13.2 MB/s\u001b[0m eta \u001b[36m0:00:00\u001b[0m\n",
            "\u001b[?25hDownloading autoray-0.6.12-py3-none-any.whl (50 kB)\n",
            "\u001b[2K   \u001b[90m━━━━━━━━━━━━━━━━━━━━━━━━━━━━━━━━━━━━━━━━\u001b[0m \u001b[32m51.0/51.0 kB\u001b[0m \u001b[31m2.1 MB/s\u001b[0m eta \u001b[36m0:00:00\u001b[0m\n",
            "\u001b[?25hDownloading PennyLane_Lightning-0.37.0-cp310-cp310-manylinux_2_28_x86_64.whl (15.5 MB)\n",
            "\u001b[2K   \u001b[90m━━━━━━━━━━━━━━━━━━━━━━━━━━━━━━━━━━━━━━━━\u001b[0m \u001b[32m15.5/15.5 MB\u001b[0m \u001b[31m25.5 MB/s\u001b[0m eta \u001b[36m0:00:00\u001b[0m\n",
            "\u001b[?25hDownloading semantic_version-2.10.0-py2.py3-none-any.whl (15 kB)\n",
            "Downloading appdirs-1.4.4-py2.py3-none-any.whl (9.6 kB)\n",
            "Downloading rustworkx-0.15.1-cp38-abi3-manylinux_2_17_x86_64.manylinux2014_x86_64.whl (2.0 MB)\n",
            "\u001b[2K   \u001b[90m━━━━━━━━━━━━━━━━━━━━━━━━━━━━━━━━━━━━━━━━\u001b[0m \u001b[32m2.0/2.0 MB\u001b[0m \u001b[31m16.4 MB/s\u001b[0m eta \u001b[36m0:00:00\u001b[0m\n",
            "\u001b[?25hInstalling collected packages: appdirs, semantic-version, rustworkx, autoray, pennylane-lightning, pennylane\n",
            "Successfully installed appdirs-1.4.4 autoray-0.6.12 pennylane-0.37.0 pennylane-lightning-0.37.0 rustworkx-0.15.1 semantic-version-2.10.0\n"
          ]
        }
      ],
      "source": [
        "!pip install pennylane --upgrade"
      ]
    },
    {
      "cell_type": "code",
      "execution_count": 2,
      "id": "5014af5a",
      "metadata": {
        "id": "5014af5a"
      },
      "outputs": [],
      "source": [
        "\"Importing the necessary libraries and dependencies:\"\n",
        "import os\n",
        "import pandas as pd\n",
        "import matplotlib.pyplot as plt\n",
        "%matplotlib inline\n",
        "import pennylane as qml\n",
        "import pennylane.numpy as np\n",
        "from pennylane.optimize import GradientDescentOptimizer, NesterovMomentumOptimizer, AdamOptimizer"
      ]
    },
    {
      "cell_type": "code",
      "execution_count": 3,
      "id": "44513f56",
      "metadata": {
        "id": "44513f56"
      },
      "outputs": [],
      "source": [
        "dev = qml.device(\"default.qubit\")"
      ]
    },
    {
      "cell_type": "markdown",
      "id": "Uv3JyCqA9z33",
      "metadata": {
        "id": "Uv3JyCqA9z33"
      },
      "source": [
        "## ***Emulating The Parity Function via Variational Circuits***"
      ]
    },
    {
      "cell_type": "markdown",
      "id": "jQIkwnd2Uww_",
      "metadata": {
        "id": "jQIkwnd2Uww_"
      },
      "source": [
        "We wish to construct a variational circuit. These can be set up by layers whose repetition (via training) would typically lead to more refined results in terms of convergence to the result we are looking for. This job in our quantum circuit is reserved for arbitrary parameterised single and two-qubit gates (entanglers). This can be achieved via the arbitrary Rot gate and CNOTs in between every single qubits (wires). This rationale will grant each qubit with the necessary freedom while connecting them with each other to increase sensitivity of correlations. The parameters are called weights, in conjunction with Machine Learning nomenclature."
      ]
    },
    {
      "cell_type": "code",
      "execution_count": 4,
      "id": "dW68cvQ_9-O_",
      "metadata": {
        "id": "dW68cvQ_9-O_"
      },
      "outputs": [],
      "source": [
        "def layer(layer_weights):\n",
        "    for wire in range(4):\n",
        "        qml.Rot(*layer_weights[wire], wires=wire)\n",
        "\n",
        "    for wires in ([0, 1], [1, 2], [2, 3], [3, 0]):\n",
        "        qml.CNOT(wires)"
      ]
    },
    {
      "cell_type": "markdown",
      "id": "RUFu1JrFW21-",
      "metadata": {
        "id": "RUFu1JrFW21-"
      },
      "source": [
        "But then we need to introduce our data to the circuit for it to be able to work on. This is a highly non-trivial task (as is evident by the instance in the Iris dataset later), but in this case, it's much more convenient. We simply note the binary strings of our input and analogize it with the state of the qubits. Where \"1\" is observed, simply a PauliX gate is effected, whereas the corresponding wires with \"0\"s are left alone. This is automatically handled by BasisState() state-preparation in Pennylane and it deals with that via big-endian encoding!"
      ]
    },
    {
      "cell_type": "code",
      "execution_count": 5,
      "id": "5NFj5tk59-Ya",
      "metadata": {
        "id": "5NFj5tk59-Ya"
      },
      "outputs": [],
      "source": [
        "def state_preparation(x):\n",
        "    qml.BasisState(x, wires=[0, 1, 2, 3])\n"
      ]
    },
    {
      "cell_type": "markdown",
      "id": "R0Ccm3v5ZBxy",
      "metadata": {
        "id": "R0Ccm3v5ZBxy"
      },
      "source": [
        "Basically, the state-preparation is followed by repeatedly applying our weighted layers. The output of the QNode is 1 or -1, which is potentially aligned with the results we are seeking (albeit with the effect of some tweaking to fit the scenario later for comparisons in the following)."
      ]
    },
    {
      "cell_type": "code",
      "execution_count": 6,
      "id": "CS2DABwx9-cG",
      "metadata": {
        "id": "CS2DABwx9-cG"
      },
      "outputs": [],
      "source": [
        "@qml.qnode(dev)\n",
        "def circuit(weights, x):\n",
        "    state_preparation(x)\n",
        "\n",
        "    for layer_weights in weights:\n",
        "        layer(layer_weights)\n",
        "\n",
        "    return qml.expval(qml.PauliZ(0))\n"
      ]
    },
    {
      "cell_type": "markdown",
      "id": "g2LSmjAoaDLa",
      "metadata": {
        "id": "g2LSmjAoaDLa"
      },
      "source": [
        "In essence, when we talk about variational settings, we almost always implicitly allude to the existence of \"classical\" entities. Now, here we have the option of adding a trainable classical bias parameter that can be optimized later, which aids with better data fitting eventually. For that purpose, we sum the output of our quantum circuit with the bias parameter."
      ]
    },
    {
      "cell_type": "code",
      "execution_count": 7,
      "id": "MnGMmR3G9-fX",
      "metadata": {
        "id": "MnGMmR3G9-fX"
      },
      "outputs": [],
      "source": [
        "def variational_classifier(weights, bias, x):\n",
        "    return circuit(weights, x) + bias\n"
      ]
    },
    {
      "cell_type": "markdown",
      "id": "5fEJmLRmhYKV",
      "metadata": {
        "id": "5fEJmLRmhYKV"
      },
      "source": [
        "  This is the stage, where we define cost functions. Now technically these differ from loss functions, and in Supervised Learning the relation between them is as follows. Cost functions are usually defined as the sum of a loss function with a regularizer (e.g., L1 or L2). A standard choice for loss functions is square_loss and it's acheived by squaring the difference between our labels and our predictions (the end result of all the levels of training on our trainig set). We can also define a custom function for accuracy, which trails the number of correct predictions divided by the number of elements in our label set. Now, we can guage the level of a datapoint being as accurate via a threshold (here one can choose up to 4 decimals)."
      ]
    },
    {
      "cell_type": "code",
      "execution_count": 8,
      "id": "Ri84eZ9M9-iI",
      "metadata": {
        "id": "Ri84eZ9M9-iI"
      },
      "outputs": [],
      "source": [
        "def square_loss(labels, predictions):\n",
        "    # We use a call to qml.math.stack to allow subtracting the arrays directly\n",
        "    return np.mean((labels - qml.math.stack(predictions)) ** 2)\n"
      ]
    },
    {
      "cell_type": "code",
      "execution_count": 9,
      "id": "ulB1rmSd9-kO",
      "metadata": {
        "id": "ulB1rmSd9-kO"
      },
      "outputs": [],
      "source": [
        "def accuracy(labels, predictions):\n",
        "    acc = sum(abs(l - p) < 1e-4 for l, p in zip(labels, predictions))\n",
        "    acc = acc / len(labels)\n",
        "    return acc\n"
      ]
    },
    {
      "cell_type": "code",
      "execution_count": 10,
      "id": "fxN_igSmNAh6",
      "metadata": {
        "id": "fxN_igSmNAh6"
      },
      "outputs": [],
      "source": [
        "def cost(weights, bias, X, Y):\n",
        "    predictions = [variational_classifier(weights, bias, x) for x in X]\n",
        "    return square_loss(Y, predictions)\n"
      ]
    },
    {
      "cell_type": "markdown",
      "id": "O8XlHhp5am66",
      "metadata": {
        "id": "O8XlHhp5am66"
      },
      "source": [
        "Now we need to upload our training and test sets from the parity dataset. These are downloaded from ([VQC](https://pennylane.ai/qml/demos/tutorial_variational_classifier/)) and fed into Google Colab so that they can be called upon at will."
      ]
    },
    {
      "cell_type": "code",
      "execution_count": 11,
      "id": "HV-HwO40Ncvh",
      "metadata": {
        "colab": {
          "base_uri": "https://localhost:8080/",
          "height": 95
        },
        "id": "HV-HwO40Ncvh",
        "outputId": "8075cea3-0a48-4c9b-8683-733913699727"
      },
      "outputs": [
        {
          "output_type": "display_data",
          "data": {
            "text/plain": [
              "<IPython.core.display.HTML object>"
            ],
            "text/html": [
              "\n",
              "     <input type=\"file\" id=\"files-a0ead13a-addd-4c53-8791-1c3f095787c1\" name=\"files[]\" multiple disabled\n",
              "        style=\"border:none\" />\n",
              "     <output id=\"result-a0ead13a-addd-4c53-8791-1c3f095787c1\">\n",
              "      Upload widget is only available when the cell has been executed in the\n",
              "      current browser session. Please rerun this cell to enable.\n",
              "      </output>\n",
              "      <script>// Copyright 2017 Google LLC\n",
              "//\n",
              "// Licensed under the Apache License, Version 2.0 (the \"License\");\n",
              "// you may not use this file except in compliance with the License.\n",
              "// You may obtain a copy of the License at\n",
              "//\n",
              "//      http://www.apache.org/licenses/LICENSE-2.0\n",
              "//\n",
              "// Unless required by applicable law or agreed to in writing, software\n",
              "// distributed under the License is distributed on an \"AS IS\" BASIS,\n",
              "// WITHOUT WARRANTIES OR CONDITIONS OF ANY KIND, either express or implied.\n",
              "// See the License for the specific language governing permissions and\n",
              "// limitations under the License.\n",
              "\n",
              "/**\n",
              " * @fileoverview Helpers for google.colab Python module.\n",
              " */\n",
              "(function(scope) {\n",
              "function span(text, styleAttributes = {}) {\n",
              "  const element = document.createElement('span');\n",
              "  element.textContent = text;\n",
              "  for (const key of Object.keys(styleAttributes)) {\n",
              "    element.style[key] = styleAttributes[key];\n",
              "  }\n",
              "  return element;\n",
              "}\n",
              "\n",
              "// Max number of bytes which will be uploaded at a time.\n",
              "const MAX_PAYLOAD_SIZE = 100 * 1024;\n",
              "\n",
              "function _uploadFiles(inputId, outputId) {\n",
              "  const steps = uploadFilesStep(inputId, outputId);\n",
              "  const outputElement = document.getElementById(outputId);\n",
              "  // Cache steps on the outputElement to make it available for the next call\n",
              "  // to uploadFilesContinue from Python.\n",
              "  outputElement.steps = steps;\n",
              "\n",
              "  return _uploadFilesContinue(outputId);\n",
              "}\n",
              "\n",
              "// This is roughly an async generator (not supported in the browser yet),\n",
              "// where there are multiple asynchronous steps and the Python side is going\n",
              "// to poll for completion of each step.\n",
              "// This uses a Promise to block the python side on completion of each step,\n",
              "// then passes the result of the previous step as the input to the next step.\n",
              "function _uploadFilesContinue(outputId) {\n",
              "  const outputElement = document.getElementById(outputId);\n",
              "  const steps = outputElement.steps;\n",
              "\n",
              "  const next = steps.next(outputElement.lastPromiseValue);\n",
              "  return Promise.resolve(next.value.promise).then((value) => {\n",
              "    // Cache the last promise value to make it available to the next\n",
              "    // step of the generator.\n",
              "    outputElement.lastPromiseValue = value;\n",
              "    return next.value.response;\n",
              "  });\n",
              "}\n",
              "\n",
              "/**\n",
              " * Generator function which is called between each async step of the upload\n",
              " * process.\n",
              " * @param {string} inputId Element ID of the input file picker element.\n",
              " * @param {string} outputId Element ID of the output display.\n",
              " * @return {!Iterable<!Object>} Iterable of next steps.\n",
              " */\n",
              "function* uploadFilesStep(inputId, outputId) {\n",
              "  const inputElement = document.getElementById(inputId);\n",
              "  inputElement.disabled = false;\n",
              "\n",
              "  const outputElement = document.getElementById(outputId);\n",
              "  outputElement.innerHTML = '';\n",
              "\n",
              "  const pickedPromise = new Promise((resolve) => {\n",
              "    inputElement.addEventListener('change', (e) => {\n",
              "      resolve(e.target.files);\n",
              "    });\n",
              "  });\n",
              "\n",
              "  const cancel = document.createElement('button');\n",
              "  inputElement.parentElement.appendChild(cancel);\n",
              "  cancel.textContent = 'Cancel upload';\n",
              "  const cancelPromise = new Promise((resolve) => {\n",
              "    cancel.onclick = () => {\n",
              "      resolve(null);\n",
              "    };\n",
              "  });\n",
              "\n",
              "  // Wait for the user to pick the files.\n",
              "  const files = yield {\n",
              "    promise: Promise.race([pickedPromise, cancelPromise]),\n",
              "    response: {\n",
              "      action: 'starting',\n",
              "    }\n",
              "  };\n",
              "\n",
              "  cancel.remove();\n",
              "\n",
              "  // Disable the input element since further picks are not allowed.\n",
              "  inputElement.disabled = true;\n",
              "\n",
              "  if (!files) {\n",
              "    return {\n",
              "      response: {\n",
              "        action: 'complete',\n",
              "      }\n",
              "    };\n",
              "  }\n",
              "\n",
              "  for (const file of files) {\n",
              "    const li = document.createElement('li');\n",
              "    li.append(span(file.name, {fontWeight: 'bold'}));\n",
              "    li.append(span(\n",
              "        `(${file.type || 'n/a'}) - ${file.size} bytes, ` +\n",
              "        `last modified: ${\n",
              "            file.lastModifiedDate ? file.lastModifiedDate.toLocaleDateString() :\n",
              "                                    'n/a'} - `));\n",
              "    const percent = span('0% done');\n",
              "    li.appendChild(percent);\n",
              "\n",
              "    outputElement.appendChild(li);\n",
              "\n",
              "    const fileDataPromise = new Promise((resolve) => {\n",
              "      const reader = new FileReader();\n",
              "      reader.onload = (e) => {\n",
              "        resolve(e.target.result);\n",
              "      };\n",
              "      reader.readAsArrayBuffer(file);\n",
              "    });\n",
              "    // Wait for the data to be ready.\n",
              "    let fileData = yield {\n",
              "      promise: fileDataPromise,\n",
              "      response: {\n",
              "        action: 'continue',\n",
              "      }\n",
              "    };\n",
              "\n",
              "    // Use a chunked sending to avoid message size limits. See b/62115660.\n",
              "    let position = 0;\n",
              "    do {\n",
              "      const length = Math.min(fileData.byteLength - position, MAX_PAYLOAD_SIZE);\n",
              "      const chunk = new Uint8Array(fileData, position, length);\n",
              "      position += length;\n",
              "\n",
              "      const base64 = btoa(String.fromCharCode.apply(null, chunk));\n",
              "      yield {\n",
              "        response: {\n",
              "          action: 'append',\n",
              "          file: file.name,\n",
              "          data: base64,\n",
              "        },\n",
              "      };\n",
              "\n",
              "      let percentDone = fileData.byteLength === 0 ?\n",
              "          100 :\n",
              "          Math.round((position / fileData.byteLength) * 100);\n",
              "      percent.textContent = `${percentDone}% done`;\n",
              "\n",
              "    } while (position < fileData.byteLength);\n",
              "  }\n",
              "\n",
              "  // All done.\n",
              "  yield {\n",
              "    response: {\n",
              "      action: 'complete',\n",
              "    }\n",
              "  };\n",
              "}\n",
              "\n",
              "scope.google = scope.google || {};\n",
              "scope.google.colab = scope.google.colab || {};\n",
              "scope.google.colab._files = {\n",
              "  _uploadFiles,\n",
              "  _uploadFilesContinue,\n",
              "};\n",
              "})(self);\n",
              "</script> "
            ]
          },
          "metadata": {}
        },
        {
          "output_type": "stream",
          "name": "stdout",
          "text": [
            "Saving parity_train.txt to parity_train.txt\n"
          ]
        }
      ],
      "source": [
        "from google.colab import files\n",
        "uploaded = files.upload()"
      ]
    },
    {
      "cell_type": "code",
      "execution_count": 12,
      "id": "iWuIn-utLtTe",
      "metadata": {
        "colab": {
          "base_uri": "https://localhost:8080/",
          "height": 95
        },
        "id": "iWuIn-utLtTe",
        "outputId": "9de20cf0-d5ec-4d01-f3d4-ebed3bcfa019"
      },
      "outputs": [
        {
          "output_type": "display_data",
          "data": {
            "text/plain": [
              "<IPython.core.display.HTML object>"
            ],
            "text/html": [
              "\n",
              "     <input type=\"file\" id=\"files-9d1b42ef-3765-46f9-a5f7-57ce883ab814\" name=\"files[]\" multiple disabled\n",
              "        style=\"border:none\" />\n",
              "     <output id=\"result-9d1b42ef-3765-46f9-a5f7-57ce883ab814\">\n",
              "      Upload widget is only available when the cell has been executed in the\n",
              "      current browser session. Please rerun this cell to enable.\n",
              "      </output>\n",
              "      <script>// Copyright 2017 Google LLC\n",
              "//\n",
              "// Licensed under the Apache License, Version 2.0 (the \"License\");\n",
              "// you may not use this file except in compliance with the License.\n",
              "// You may obtain a copy of the License at\n",
              "//\n",
              "//      http://www.apache.org/licenses/LICENSE-2.0\n",
              "//\n",
              "// Unless required by applicable law or agreed to in writing, software\n",
              "// distributed under the License is distributed on an \"AS IS\" BASIS,\n",
              "// WITHOUT WARRANTIES OR CONDITIONS OF ANY KIND, either express or implied.\n",
              "// See the License for the specific language governing permissions and\n",
              "// limitations under the License.\n",
              "\n",
              "/**\n",
              " * @fileoverview Helpers for google.colab Python module.\n",
              " */\n",
              "(function(scope) {\n",
              "function span(text, styleAttributes = {}) {\n",
              "  const element = document.createElement('span');\n",
              "  element.textContent = text;\n",
              "  for (const key of Object.keys(styleAttributes)) {\n",
              "    element.style[key] = styleAttributes[key];\n",
              "  }\n",
              "  return element;\n",
              "}\n",
              "\n",
              "// Max number of bytes which will be uploaded at a time.\n",
              "const MAX_PAYLOAD_SIZE = 100 * 1024;\n",
              "\n",
              "function _uploadFiles(inputId, outputId) {\n",
              "  const steps = uploadFilesStep(inputId, outputId);\n",
              "  const outputElement = document.getElementById(outputId);\n",
              "  // Cache steps on the outputElement to make it available for the next call\n",
              "  // to uploadFilesContinue from Python.\n",
              "  outputElement.steps = steps;\n",
              "\n",
              "  return _uploadFilesContinue(outputId);\n",
              "}\n",
              "\n",
              "// This is roughly an async generator (not supported in the browser yet),\n",
              "// where there are multiple asynchronous steps and the Python side is going\n",
              "// to poll for completion of each step.\n",
              "// This uses a Promise to block the python side on completion of each step,\n",
              "// then passes the result of the previous step as the input to the next step.\n",
              "function _uploadFilesContinue(outputId) {\n",
              "  const outputElement = document.getElementById(outputId);\n",
              "  const steps = outputElement.steps;\n",
              "\n",
              "  const next = steps.next(outputElement.lastPromiseValue);\n",
              "  return Promise.resolve(next.value.promise).then((value) => {\n",
              "    // Cache the last promise value to make it available to the next\n",
              "    // step of the generator.\n",
              "    outputElement.lastPromiseValue = value;\n",
              "    return next.value.response;\n",
              "  });\n",
              "}\n",
              "\n",
              "/**\n",
              " * Generator function which is called between each async step of the upload\n",
              " * process.\n",
              " * @param {string} inputId Element ID of the input file picker element.\n",
              " * @param {string} outputId Element ID of the output display.\n",
              " * @return {!Iterable<!Object>} Iterable of next steps.\n",
              " */\n",
              "function* uploadFilesStep(inputId, outputId) {\n",
              "  const inputElement = document.getElementById(inputId);\n",
              "  inputElement.disabled = false;\n",
              "\n",
              "  const outputElement = document.getElementById(outputId);\n",
              "  outputElement.innerHTML = '';\n",
              "\n",
              "  const pickedPromise = new Promise((resolve) => {\n",
              "    inputElement.addEventListener('change', (e) => {\n",
              "      resolve(e.target.files);\n",
              "    });\n",
              "  });\n",
              "\n",
              "  const cancel = document.createElement('button');\n",
              "  inputElement.parentElement.appendChild(cancel);\n",
              "  cancel.textContent = 'Cancel upload';\n",
              "  const cancelPromise = new Promise((resolve) => {\n",
              "    cancel.onclick = () => {\n",
              "      resolve(null);\n",
              "    };\n",
              "  });\n",
              "\n",
              "  // Wait for the user to pick the files.\n",
              "  const files = yield {\n",
              "    promise: Promise.race([pickedPromise, cancelPromise]),\n",
              "    response: {\n",
              "      action: 'starting',\n",
              "    }\n",
              "  };\n",
              "\n",
              "  cancel.remove();\n",
              "\n",
              "  // Disable the input element since further picks are not allowed.\n",
              "  inputElement.disabled = true;\n",
              "\n",
              "  if (!files) {\n",
              "    return {\n",
              "      response: {\n",
              "        action: 'complete',\n",
              "      }\n",
              "    };\n",
              "  }\n",
              "\n",
              "  for (const file of files) {\n",
              "    const li = document.createElement('li');\n",
              "    li.append(span(file.name, {fontWeight: 'bold'}));\n",
              "    li.append(span(\n",
              "        `(${file.type || 'n/a'}) - ${file.size} bytes, ` +\n",
              "        `last modified: ${\n",
              "            file.lastModifiedDate ? file.lastModifiedDate.toLocaleDateString() :\n",
              "                                    'n/a'} - `));\n",
              "    const percent = span('0% done');\n",
              "    li.appendChild(percent);\n",
              "\n",
              "    outputElement.appendChild(li);\n",
              "\n",
              "    const fileDataPromise = new Promise((resolve) => {\n",
              "      const reader = new FileReader();\n",
              "      reader.onload = (e) => {\n",
              "        resolve(e.target.result);\n",
              "      };\n",
              "      reader.readAsArrayBuffer(file);\n",
              "    });\n",
              "    // Wait for the data to be ready.\n",
              "    let fileData = yield {\n",
              "      promise: fileDataPromise,\n",
              "      response: {\n",
              "        action: 'continue',\n",
              "      }\n",
              "    };\n",
              "\n",
              "    // Use a chunked sending to avoid message size limits. See b/62115660.\n",
              "    let position = 0;\n",
              "    do {\n",
              "      const length = Math.min(fileData.byteLength - position, MAX_PAYLOAD_SIZE);\n",
              "      const chunk = new Uint8Array(fileData, position, length);\n",
              "      position += length;\n",
              "\n",
              "      const base64 = btoa(String.fromCharCode.apply(null, chunk));\n",
              "      yield {\n",
              "        response: {\n",
              "          action: 'append',\n",
              "          file: file.name,\n",
              "          data: base64,\n",
              "        },\n",
              "      };\n",
              "\n",
              "      let percentDone = fileData.byteLength === 0 ?\n",
              "          100 :\n",
              "          Math.round((position / fileData.byteLength) * 100);\n",
              "      percent.textContent = `${percentDone}% done`;\n",
              "\n",
              "    } while (position < fileData.byteLength);\n",
              "  }\n",
              "\n",
              "  // All done.\n",
              "  yield {\n",
              "    response: {\n",
              "      action: 'complete',\n",
              "    }\n",
              "  };\n",
              "}\n",
              "\n",
              "scope.google = scope.google || {};\n",
              "scope.google.colab = scope.google.colab || {};\n",
              "scope.google.colab._files = {\n",
              "  _uploadFiles,\n",
              "  _uploadFilesContinue,\n",
              "};\n",
              "})(self);\n",
              "</script> "
            ]
          },
          "metadata": {}
        },
        {
          "output_type": "stream",
          "name": "stdout",
          "text": [
            "Saving parity_test.txt to parity_test.txt\n"
          ]
        }
      ],
      "source": [
        "from google.colab import files\n",
        "uploaded = files.upload()"
      ]
    },
    {
      "cell_type": "markdown",
      "id": "9GizYz-HtujV",
      "metadata": {
        "id": "9GizYz-HtujV"
      },
      "source": [
        "We load the data, and specify the label by Y. Our training datapoints will be denoted by X. With further inspection, we can observe that a shift is needed for the labels to be compliant with the procedures defined above (e.g., in terms of the output produced by the layers). We need to confirm we have the data as required. Indeed, this is the case."
      ]
    },
    {
      "cell_type": "code",
      "execution_count": 13,
      "id": "Rq6f7Zu--WEe",
      "metadata": {
        "colab": {
          "base_uri": "https://localhost:8080/"
        },
        "id": "Rq6f7Zu--WEe",
        "outputId": "e21feca6-26e0-4da2-95e2-d4bf9f6b44f3"
      },
      "outputs": [
        {
          "output_type": "stream",
          "name": "stdout",
          "text": [
            "x = [0 0 0 1], y = 1\n",
            "x = [0 0 1 0], y = 1\n",
            "x = [0 1 0 0], y = 1\n",
            "x = [0 1 0 1], y = -1\n",
            "x = [0 1 1 0], y = -1\n",
            "x = [0 1 1 1], y = 1\n",
            "x = [1 0 0 0], y = 1\n",
            "x = [1 0 0 1], y = -1\n",
            "x = [1 0 1 1], y = 1\n",
            "x = [1 1 1 1], y = -1\n"
          ]
        }
      ],
      "source": [
        "data = np.loadtxt(\"parity_train.txt\", dtype=int)\n",
        "X = np.array(data[:, :-1])\n",
        "Y = np.array(data[:, -1])\n",
        "Y = Y * 2 - 1  # shift label from {0, 1} to {-1, 1}\n",
        "\n",
        "for x,y in zip(X, Y):\n",
        "    print(f\"x = {x}, y = {y}\")\n"
      ]
    },
    {
      "cell_type": "markdown",
      "id": "rCu0uEBbu37J",
      "metadata": {
        "id": "rCu0uEBbu37J"
      },
      "source": [
        "Now, we use standard scaling (the parameters between 0 and 1) for random generation of our initial weights to be fed to the pipeline (to be optimized for the end results). Some other hyperparameters are denoted below. We choose bias 0, which of course represents the other trainable entity to be involved in optimization."
      ]
    },
    {
      "cell_type": "code",
      "execution_count": 14,
      "id": "sJCRmgXZMv1v",
      "metadata": {
        "colab": {
          "base_uri": "https://localhost:8080/"
        },
        "id": "sJCRmgXZMv1v",
        "outputId": "cda55bb9-803d-41dc-9416-c5f9c196e2fe"
      },
      "outputs": [
        {
          "output_type": "stream",
          "name": "stdout",
          "text": [
            "Weights: [[[ 0.00496714 -0.00138264  0.00647689]\n",
            "  [ 0.0152303  -0.00234153 -0.00234137]\n",
            "  [ 0.01579213  0.00767435 -0.00469474]\n",
            "  [ 0.0054256  -0.00463418 -0.0046573 ]]\n",
            "\n",
            " [[ 0.00241962 -0.0191328  -0.01724918]\n",
            "  [-0.00562288 -0.01012831  0.00314247]\n",
            "  [-0.00908024 -0.01412304  0.01465649]\n",
            "  [-0.00225776  0.00067528 -0.01424748]]]\n",
            "Bias:  0.0\n"
          ]
        }
      ],
      "source": [
        "np.random.seed(42)\n",
        "num_qubits = 4\n",
        "num_layers = 2\n",
        "weights_init = 0.01 * np.random.randn(num_layers, num_qubits, 3, requires_grad=True)\n",
        "bias_init = np.array(0.0, requires_grad=True)\n",
        "\n",
        "print(\"Weights:\", weights_init)\n",
        "print(\"Bias: \", bias_init)\n"
      ]
    },
    {
      "cell_type": "markdown",
      "id": "zIlcQHwexCT_",
      "metadata": {
        "id": "zIlcQHwexCT_"
      },
      "source": [
        "Several optimizers are available to choose from, and handling the correct choice seems to be a delicate matter, not at all trivial. For example, ([Optimizers](https://pennylane.ai/blog/2022/06/how-to-choose-your-optimizer/tutorial_variational_classifier/)) is a good resource to build an intuition around this direction. One choice can be NesterovMomentumOptimizer, which is a good choice for landscapes with tricky curvatures or saddle points ([Nesterov](https://deepai.org/machine-learning-glossary-and-terms/nesterovs-momentum)). It involves adjusting two hyperparameters of step_size and momentum. We choose step_size = 0.4 and batch_size = 5 in which the latter is indicative of processing that amount of data for training in one go. This can be adjusted not to be the entire dataset, which is not reasonable if the dataset is huge! We perform the training for n epochs (another hyperparameter), namely this procedure will be repeated n times. Also because we have trained the bias, the whole output may go outside the boundary of [-1, 1], so we use np.sign to bring it back to the format [-1 or 1] for checking with the labels. With these settings, already at iteration around 20 we have stable training accuracy=1. For lowering the cost, more iterations are needed."
      ]
    },
    {
      "cell_type": "code",
      "execution_count": 15,
      "id": "OK7PCVniM3V9",
      "metadata": {
        "colab": {
          "base_uri": "https://localhost:8080/"
        },
        "id": "OK7PCVniM3V9",
        "outputId": "4398dbdd-e7ea-45d7-a926-9b2cfaab55d0"
      },
      "outputs": [
        {
          "output_type": "stream",
          "name": "stdout",
          "text": [
            "Iter:    0 | Cost: 2.53620672 | Accuracy: 0.50000000\n",
            "Iter:    1 | Cost: 1.97740459 | Accuracy: 0.50000000\n",
            "Iter:    2 | Cost: 1.99137667 | Accuracy: 0.50000000\n",
            "Iter:    3 | Cost: 2.18549957 | Accuracy: 0.50000000\n",
            "Iter:    4 | Cost: 1.32594754 | Accuracy: 0.50000000\n",
            "Iter:    5 | Cost: 0.99828218 | Accuracy: 0.50000000\n",
            "Iter:    6 | Cost: 0.94972016 | Accuracy: 0.60000000\n",
            "Iter:    7 | Cost: 1.00209783 | Accuracy: 0.60000000\n",
            "Iter:    8 | Cost: 1.47944212 | Accuracy: 0.40000000\n",
            "Iter:    9 | Cost: 1.02022744 | Accuracy: 0.60000000\n",
            "Iter:   10 | Cost: 1.00989356 | Accuracy: 0.60000000\n",
            "Iter:   11 | Cost: 0.97576235 | Accuracy: 0.60000000\n",
            "Iter:   12 | Cost: 0.93303721 | Accuracy: 0.40000000\n",
            "Iter:   13 | Cost: 0.96645382 | Accuracy: 0.60000000\n",
            "Iter:   14 | Cost: 1.06443976 | Accuracy: 0.60000000\n",
            "Iter:   15 | Cost: 0.59190666 | Accuracy: 0.80000000\n",
            "Iter:   16 | Cost: 0.24606961 | Accuracy: 1.00000000\n",
            "Iter:   17 | Cost: 0.03574971 | Accuracy: 1.00000000\n",
            "Iter:   18 | Cost: 0.00490907 | Accuracy: 1.00000000\n",
            "Iter:   19 | Cost: 0.02436996 | Accuracy: 1.00000000\n",
            "Iter:   20 | Cost: 0.04075338 | Accuracy: 1.00000000\n",
            "Iter:   21 | Cost: 0.03049150 | Accuracy: 1.00000000\n",
            "Iter:   22 | Cost: 0.01506026 | Accuracy: 1.00000000\n",
            "Iter:   23 | Cost: 0.00842302 | Accuracy: 1.00000000\n",
            "Iter:   24 | Cost: 0.00417073 | Accuracy: 1.00000000\n",
            "Iter:   25 | Cost: 0.00273771 | Accuracy: 1.00000000\n",
            "Iter:   26 | Cost: 0.00235333 | Accuracy: 1.00000000\n",
            "Iter:   27 | Cost: 0.00241595 | Accuracy: 1.00000000\n",
            "Iter:   28 | Cost: 0.00278523 | Accuracy: 1.00000000\n",
            "Iter:   29 | Cost: 0.00466051 | Accuracy: 1.00000000\n",
            "Iter:   30 | Cost: 0.00500954 | Accuracy: 1.00000000\n",
            "Iter:   31 | Cost: 0.00419270 | Accuracy: 1.00000000\n",
            "Iter:   32 | Cost: 0.00366243 | Accuracy: 1.00000000\n",
            "Iter:   33 | Cost: 0.00347886 | Accuracy: 1.00000000\n",
            "Iter:   34 | Cost: 0.00226193 | Accuracy: 1.00000000\n",
            "Iter:   35 | Cost: 0.00107695 | Accuracy: 1.00000000\n",
            "Iter:   36 | Cost: 0.00058617 | Accuracy: 1.00000000\n",
            "Iter:   37 | Cost: 0.00030285 | Accuracy: 1.00000000\n",
            "Iter:   38 | Cost: 0.00027228 | Accuracy: 1.00000000\n",
            "Iter:   39 | Cost: 0.00013222 | Accuracy: 1.00000000\n",
            "Iter:   40 | Cost: 0.00009677 | Accuracy: 1.00000000\n",
            "Iter:   41 | Cost: 0.00009964 | Accuracy: 1.00000000\n",
            "Iter:   42 | Cost: 0.00010795 | Accuracy: 1.00000000\n",
            "Iter:   43 | Cost: 0.00013451 | Accuracy: 1.00000000\n",
            "Iter:   44 | Cost: 0.00023044 | Accuracy: 1.00000000\n",
            "Iter:   45 | Cost: 0.00019753 | Accuracy: 1.00000000\n",
            "Iter:   46 | Cost: 0.00036205 | Accuracy: 1.00000000\n",
            "Iter:   47 | Cost: 0.00021534 | Accuracy: 1.00000000\n",
            "Iter:   48 | Cost: 0.00028742 | Accuracy: 1.00000000\n",
            "Iter:   49 | Cost: 0.00028610 | Accuracy: 1.00000000\n",
            "Iter:   50 | Cost: 0.00043694 | Accuracy: 1.00000000\n",
            "Iter:   51 | Cost: 0.00024791 | Accuracy: 1.00000000\n",
            "Iter:   52 | Cost: 0.00022228 | Accuracy: 1.00000000\n",
            "Iter:   53 | Cost: 0.00021467 | Accuracy: 1.00000000\n",
            "Iter:   54 | Cost: 0.00018700 | Accuracy: 1.00000000\n",
            "Iter:   55 | Cost: 0.00015536 | Accuracy: 1.00000000\n",
            "Iter:   56 | Cost: 0.00013947 | Accuracy: 1.00000000\n",
            "Iter:   57 | Cost: 0.00010560 | Accuracy: 1.00000000\n",
            "Iter:   58 | Cost: 0.00008707 | Accuracy: 1.00000000\n",
            "Iter:   59 | Cost: 0.00006846 | Accuracy: 1.00000000\n",
            "Iter:   60 | Cost: 0.00005380 | Accuracy: 1.00000000\n",
            "Iter:   61 | Cost: 0.00004249 | Accuracy: 1.00000000\n",
            "Iter:   62 | Cost: 0.00003351 | Accuracy: 1.00000000\n",
            "Iter:   63 | Cost: 0.00002933 | Accuracy: 1.00000000\n",
            "Iter:   64 | Cost: 0.00002722 | Accuracy: 1.00000000\n",
            "Iter:   65 | Cost: 0.00001762 | Accuracy: 1.00000000\n",
            "Iter:   66 | Cost: 0.00001692 | Accuracy: 1.00000000\n",
            "Iter:   67 | Cost: 0.00001502 | Accuracy: 1.00000000\n",
            "Iter:   68 | Cost: 0.00000984 | Accuracy: 1.00000000\n",
            "Iter:   69 | Cost: 0.00000851 | Accuracy: 1.00000000\n",
            "Iter:   70 | Cost: 0.00000653 | Accuracy: 1.00000000\n",
            "Iter:   71 | Cost: 0.00000692 | Accuracy: 1.00000000\n",
            "Iter:   72 | Cost: 0.00000559 | Accuracy: 1.00000000\n",
            "Iter:   73 | Cost: 0.00000423 | Accuracy: 1.00000000\n",
            "Iter:   74 | Cost: 0.00000347 | Accuracy: 1.00000000\n",
            "Iter:   75 | Cost: 0.00000297 | Accuracy: 1.00000000\n",
            "Iter:   76 | Cost: 0.00000263 | Accuracy: 1.00000000\n",
            "Iter:   77 | Cost: 0.00000314 | Accuracy: 1.00000000\n",
            "Iter:   78 | Cost: 0.00000263 | Accuracy: 1.00000000\n",
            "Iter:   79 | Cost: 0.00000229 | Accuracy: 1.00000000\n",
            "Iter:   80 | Cost: 0.00000235 | Accuracy: 1.00000000\n",
            "Iter:   81 | Cost: 0.00000250 | Accuracy: 1.00000000\n",
            "Iter:   82 | Cost: 0.00000141 | Accuracy: 1.00000000\n",
            "Iter:   83 | Cost: 0.00000166 | Accuracy: 1.00000000\n",
            "Iter:   84 | Cost: 0.00000119 | Accuracy: 1.00000000\n",
            "Iter:   85 | Cost: 0.00000112 | Accuracy: 1.00000000\n",
            "Iter:   86 | Cost: 0.00000102 | Accuracy: 1.00000000\n",
            "Iter:   87 | Cost: 0.00000095 | Accuracy: 1.00000000\n",
            "Iter:   88 | Cost: 0.00000098 | Accuracy: 1.00000000\n",
            "Iter:   89 | Cost: 0.00000096 | Accuracy: 1.00000000\n"
          ]
        }
      ],
      "source": [
        "opt = NesterovMomentumOptimizer(0.4)\n",
        "batch_size = 5\n",
        "\n",
        "\n",
        "weights = weights_init\n",
        "bias = bias_init\n",
        "for it in range(90):\n",
        "\n",
        "    # Update the weights by one optimizer step, using only a limited batch of data\n",
        "    batch_index = np.random.randint(0, len(X), (batch_size,))\n",
        "    X_batch = X[batch_index]\n",
        "    Y_batch = Y[batch_index]\n",
        "    weights, bias = opt.step(cost, weights, bias, X=X_batch, Y=Y_batch)\n",
        "\n",
        "    # Compute accuracy\n",
        "    predictions = [np.sign(variational_classifier(weights, bias, x)) for x in X]\n",
        "\n",
        "    current_cost = cost(weights, bias, X, Y)\n",
        "    acc = accuracy(Y, predictions)\n",
        "\n",
        "    print(f\"Iter: {it:4d} | Cost: {current_cost:0.8f} | Accuracy: {acc:0.8f}\")\n"
      ]
    },
    {
      "cell_type": "markdown",
      "id": "G5orKkZz4QiN",
      "metadata": {
        "id": "G5orKkZz4QiN"
      },
      "source": [
        "Of course, Machine Learning's goal is to perform generalization. Thus, we must test our model on unseen data, in this case our test dataset. Otherwise, overfitting occurs, wherein the model is so attached to the training data that it only can understand those specific instances and doesn't have the freedom to explore other cases."
      ]
    },
    {
      "cell_type": "code",
      "execution_count": 16,
      "id": "asTwsBPGNWpp",
      "metadata": {
        "colab": {
          "base_uri": "https://localhost:8080/"
        },
        "id": "asTwsBPGNWpp",
        "outputId": "744416be-5f3d-433f-ddad-546a24c3764b"
      },
      "outputs": [
        {
          "output_type": "stream",
          "name": "stdout",
          "text": [
            "x = [0 0 0 0], y = -1, pred=-1.0\n",
            "x = [0 0 1 1], y = -1, pred=-1.0\n",
            "x = [1 0 1 0], y = -1, pred=-1.0\n",
            "x = [1 1 1 0], y = 1, pred=1.0\n",
            "x = [1 1 0 0], y = -1, pred=-1.0\n",
            "x = [1 1 0 1], y = 1, pred=1.0\n",
            "Accuracy on unseen data: 1.0\n"
          ]
        }
      ],
      "source": [
        "data = np.loadtxt(\"parity_test.txt\", dtype=int)\n",
        "X_test = np.array(data[:, :-1])\n",
        "Y_test = np.array(data[:, -1])\n",
        "Y_test = Y_test * 2 - 1  # shift label from {0, 1} to {-1, 1}\n",
        "\n",
        "predictions_test = [np.sign(variational_classifier(weights, bias, x)) for x in X_test]\n",
        "\n",
        "for x,y,p in zip(X_test, Y_test, predictions_test):\n",
        "    print(f\"x = {x}, y = {y}, pred={p}\")\n",
        "\n",
        "acc_test = accuracy(Y_test, predictions_test)\n",
        "print(\"Accuracy on unseen data:\", acc_test)\n"
      ]
    },
    {
      "cell_type": "markdown",
      "id": "7_R20goB5yUK",
      "metadata": {
        "id": "7_R20goB5yUK"
      },
      "source": [
        "Perfect result! Indeed the model is predictive and can take care of unseen examples!"
      ]
    },
    {
      "cell_type": "markdown",
      "id": "38da0682",
      "metadata": {
        "id": "38da0682"
      },
      "source": [
        "## ***Binary classification for two classes of the Iris Dataset:***"
      ]
    },
    {
      "cell_type": "markdown",
      "id": "c8ae5512",
      "metadata": {
        "id": "c8ae5512"
      },
      "source": [
        "For this initial phase of the embedding choice for our VQC (by amplitude encoding, which usually gives leverage in terms of accuracy, compared to other implementations e.g., according to ([Variational Quantum Classifier for Binary Classification](https://ieeexplore.ieee.org/document/9665779)). Of course, it is a linear embedding and these bring with themselves limitations), we need to apply the method in ([Mottonen](https://arxiv.org/abs/quant-ph/0407010)).\n",
        "\n",
        "\n",
        "\n",
        "\n",
        "\n",
        "\n",
        "\n",
        "\n",
        "\n",
        "\n",
        "\n",
        "Now in this instance, somewhat aligned with ([Positive subspace](https://link.springer.com/book/10.1007/978-3-319-96424-9)), we do not deal with signs. Because we do not need to take care of phases, we deal only with controlled-RY gates in state preparation (cf. equation (8) and figure[3] in ([Mottonen](https://arxiv.org/abs/quant-ph/0407010)) for more details). The resurrection of our data in the form of our states, which is a part of the general scheme (as laid out in that paper) comprises applying an RY gate to the qubit 0, a controlled-RY (ctrl=0, target=1) with control value 1, and a controlled-RY (ctrl=0, target=1) with control value 0. Now, this can be further simplified, according to figure 4.6 in ([Nielsen&Chuang](https://archive.org/details/QuantumComputationAndQuantumInformation10thAnniversaryEdition/page/n213/mode/2up)). If one chooses A=RY(theta/2), B=RY(-theta/2), and C=I, one can regenerate the gates required for this purpose!"
      ]
    },
    {
      "cell_type": "code",
      "execution_count": 17,
      "id": "2c2ba303",
      "metadata": {
        "id": "2c2ba303"
      },
      "outputs": [],
      "source": [
        "\"This recipe is made by noticing the fact that we want to encode a two-qubit state (4 components).\"\n",
        "\"Now if we demonstrate that possibility by [x_0  x_1  x_2  x_3] = x_0 |00> + x_1 |01> + x_2 |10> +x_3 |11>\"\n",
        "\"and take note of Mottonen paper's construction, the procedure is laid out below equation (5) by which we need\"\n",
        "\"to transform the values on state |1> to zero. The respective formulas can be regenerated in this case.\"\n",
        "\n",
        "def get_angles(x):\n",
        "    beta0 = 2 * np.arcsin(np.sqrt(x[1] ** 2) / np.sqrt(x[0] ** 2 + x[1] ** 2 + 1e-12))\n",
        "    beta1 = 2 * np.arcsin(np.sqrt(x[3] ** 2) / np.sqrt(x[2] ** 2 + x[3] ** 2 + 1e-12))\n",
        "    beta2 = 2 * np.arcsin(np.linalg.norm(x[2:]) / np.linalg.norm(x))\n",
        "\n",
        "    return np.array([beta2, -beta1 / 2, beta1 / 2, -beta0 / 2, beta0 / 2])\n",
        "\n",
        "\n",
        "def state_preparation(a):\n",
        "\n",
        "    qml.RY(a[0], wires=0)\n",
        "\n",
        "    qml.CNOT(wires=[0, 1])\n",
        "    qml.RY(a[1], wires=1)\n",
        "    qml.CNOT(wires=[0, 1])\n",
        "    qml.RY(a[2], wires=1)\n",
        "\n",
        "    qml.PauliX(wires=0)\n",
        "\n",
        "    qml.CNOT(wires=[0, 1])\n",
        "    qml.RY(a[3], wires=1)\n",
        "    qml.CNOT(wires=[0, 1])\n",
        "    qml.RY(a[4], wires=1)\n",
        "\n",
        "    qml.PauliX(wires=0)"
      ]
    },
    {
      "cell_type": "markdown",
      "id": "5L6VvXZr-WgA",
      "metadata": {
        "id": "5L6VvXZr-WgA"
      },
      "source": [
        "Performing a test:"
      ]
    },
    {
      "cell_type": "code",
      "execution_count": 18,
      "id": "98eb9d36",
      "metadata": {
        "colab": {
          "base_uri": "https://localhost:8080/"
        },
        "id": "98eb9d36",
        "outputId": "0774656d-0078-4e0b-ec2b-ca2db999f859"
      },
      "outputs": [
        {
          "output_type": "stream",
          "name": "stdout",
          "text": [
            "x               :  [0.57735 0.      0.57735 0.57735]\n",
            "angles          :  [ 1.910633 -0.785398  0.785398 -0.        0.      ]\n",
            "amplitude vector:  [0.57735 0.      0.57735 0.57735]\n"
          ]
        }
      ],
      "source": [
        "x = np.array([1/np.sqrt(3), 0, 1/np.sqrt(3), 1/np.sqrt(3)], requires_grad=False)\n",
        "ang = get_angles(x)\n",
        "\n",
        "\n",
        "@qml.qnode(dev)\n",
        "def test(angles):\n",
        "    state_preparation(angles)\n",
        "\n",
        "    return qml.state()\n",
        "\n",
        "state = test(ang)\n",
        "\n",
        "print(\"x               : \", np.round(x, 6))\n",
        "print(\"angles          : \", np.round(ang, 6))\n",
        "print(\"amplitude vector: \", np.round(np.real(state), 6))"
      ]
    },
    {
      "cell_type": "markdown",
      "id": "pDYzaC7l_n3U",
      "metadata": {
        "id": "pDYzaC7l_n3U"
      },
      "source": [
        "Indeed, these are the desired angles, as they have regenerated our initial state! One should notice that the state should be normalized! We could have utilized qml.MottonenStatePreparation to obtain the desired rotation angles, but it was really educational to have gone through the process to understand what is going on under the hood!"
      ]
    },
    {
      "cell_type": "markdown",
      "id": "db1424dc",
      "metadata": {
        "id": "db1424dc"
      },
      "source": [
        "Our quantum layers again acting as a type of a Neural layer, corresponding to classical ML behave exactly like the case we had discussed in the previous example. Other stages are like the above."
      ]
    },
    {
      "cell_type": "code",
      "execution_count": 19,
      "id": "0cacb8ff",
      "metadata": {
        "id": "0cacb8ff"
      },
      "outputs": [],
      "source": [
        "def layer(layer_weights):\n",
        "    for wire in range(2):\n",
        "        qml.Rot(*layer_weights[wire], wires=wire)\n",
        "    qml.CNOT(wires=[0, 1])\n"
      ]
    },
    {
      "cell_type": "code",
      "execution_count": 20,
      "id": "1bf8fc87",
      "metadata": {
        "id": "1bf8fc87"
      },
      "outputs": [],
      "source": [
        "@qml.qnode(dev)\n",
        "def circuit(weights, x):\n",
        "    state_preparation(x)\n",
        "\n",
        "    for layer_weights in weights:\n",
        "        layer(layer_weights)\n",
        "\n",
        "    return qml.expval(qml.PauliZ(0))"
      ]
    },
    {
      "cell_type": "code",
      "execution_count": 21,
      "id": "f083ee65",
      "metadata": {
        "id": "f083ee65"
      },
      "outputs": [],
      "source": [
        "def variational_classifier(weights, bias, x):\n",
        "    return circuit(weights, x) + bias"
      ]
    },
    {
      "cell_type": "code",
      "execution_count": 22,
      "id": "dca4db3e",
      "metadata": {
        "id": "dca4db3e"
      },
      "outputs": [],
      "source": [
        "def square_loss(labels, predictions):\n",
        "    # We use a call to qml.math.stack to allow subtracting the arrays directly\n",
        "    return np.mean((labels - qml.math.stack(predictions)) ** 2)"
      ]
    },
    {
      "cell_type": "markdown",
      "id": "oHxj-IVx-7tQ",
      "metadata": {
        "id": "oHxj-IVx-7tQ"
      },
      "source": [
        "Just a redefinition of the cost function should be effected. For proper indexing, we need to transpose the X array for it to be a state_vector."
      ]
    },
    {
      "cell_type": "code",
      "execution_count": 23,
      "id": "7d6ec172",
      "metadata": {
        "id": "7d6ec172"
      },
      "outputs": [],
      "source": [
        "def cost(weights, bias, X, Y):\n",
        "    # Transpose the batch of input data in order to make the indexing\n",
        "    # in state_preparation work\n",
        "    predictions = variational_classifier(weights, bias, X.T)\n",
        "    return square_loss(Y, predictions)"
      ]
    },
    {
      "cell_type": "code",
      "execution_count": 24,
      "id": "fceb0cbb",
      "metadata": {
        "id": "fceb0cbb"
      },
      "outputs": [],
      "source": [
        "def accuracy(labels, predictions):\n",
        "    acc = sum(abs(l - p) < 1e-5 for l, p in zip(labels, predictions))\n",
        "    acc = acc / len(labels)\n",
        "    return acc"
      ]
    },
    {
      "cell_type": "markdown",
      "id": "0c750b9a",
      "metadata": {
        "id": "0c750b9a"
      },
      "source": [
        "We choose to upload the Iris dataset from the webpage ([Iris](https://archive.ics.uci.edu/ml/machine-learning-databases/iris/iris.data/)). Also, in a slight variation from the tutorial, we intend to do the classification for the two features of \"Petal Length\" and \"Sepal Length\". Then according to the dataset, the fourth column is reserved for the labels and because the columns 0-3 are associated with Sepal length, Sepal width, Petal length, Petal width respectively and we intend to classify sepal vs petal length, we should use columns 0 and 2 for this problem. Also we label the setosa class by 1 and the versicolor one by -1 to be aligned with our expectations for the definition of the Circuit function (expectation value of the PauliZ operator acting on a qubit (1 for |0> and -1 for |1>)). Also there is a bit of preprocessing for data at play here: The input data doesn't match the dimensions of our quantum state vector; therfore, we need to pad our inputs with \"latent\" dimensions. For that purpose, we add unity matrices and take care of normalization."
      ]
    },
    {
      "cell_type": "code",
      "execution_count": 25,
      "id": "55632852",
      "metadata": {
        "colab": {
          "base_uri": "https://localhost:8080/",
          "height": 226
        },
        "id": "55632852",
        "outputId": "97fa90bd-eb1e-40ec-c3a7-c9b8a08702d3"
      },
      "outputs": [
        {
          "output_type": "execute_result",
          "data": {
            "text/plain": [
              "     0    1    2    3            4\n",
              "0  5.1  3.5  1.4  0.2  Iris-setosa\n",
              "1  4.9  3.0  1.4  0.2  Iris-setosa\n",
              "2  4.7  3.2  1.3  0.2  Iris-setosa\n",
              "3  4.6  3.1  1.5  0.2  Iris-setosa\n",
              "4  5.0  3.6  1.4  0.2  Iris-setosa"
            ],
            "text/html": [
              "\n",
              "  <div id=\"df-dde8b5dd-42e1-40fe-b49d-16b8577d2530\" class=\"colab-df-container\">\n",
              "    <div>\n",
              "<style scoped>\n",
              "    .dataframe tbody tr th:only-of-type {\n",
              "        vertical-align: middle;\n",
              "    }\n",
              "\n",
              "    .dataframe tbody tr th {\n",
              "        vertical-align: top;\n",
              "    }\n",
              "\n",
              "    .dataframe thead th {\n",
              "        text-align: right;\n",
              "    }\n",
              "</style>\n",
              "<table border=\"1\" class=\"dataframe\">\n",
              "  <thead>\n",
              "    <tr style=\"text-align: right;\">\n",
              "      <th></th>\n",
              "      <th>0</th>\n",
              "      <th>1</th>\n",
              "      <th>2</th>\n",
              "      <th>3</th>\n",
              "      <th>4</th>\n",
              "    </tr>\n",
              "  </thead>\n",
              "  <tbody>\n",
              "    <tr>\n",
              "      <th>0</th>\n",
              "      <td>5.1</td>\n",
              "      <td>3.5</td>\n",
              "      <td>1.4</td>\n",
              "      <td>0.2</td>\n",
              "      <td>Iris-setosa</td>\n",
              "    </tr>\n",
              "    <tr>\n",
              "      <th>1</th>\n",
              "      <td>4.9</td>\n",
              "      <td>3.0</td>\n",
              "      <td>1.4</td>\n",
              "      <td>0.2</td>\n",
              "      <td>Iris-setosa</td>\n",
              "    </tr>\n",
              "    <tr>\n",
              "      <th>2</th>\n",
              "      <td>4.7</td>\n",
              "      <td>3.2</td>\n",
              "      <td>1.3</td>\n",
              "      <td>0.2</td>\n",
              "      <td>Iris-setosa</td>\n",
              "    </tr>\n",
              "    <tr>\n",
              "      <th>3</th>\n",
              "      <td>4.6</td>\n",
              "      <td>3.1</td>\n",
              "      <td>1.5</td>\n",
              "      <td>0.2</td>\n",
              "      <td>Iris-setosa</td>\n",
              "    </tr>\n",
              "    <tr>\n",
              "      <th>4</th>\n",
              "      <td>5.0</td>\n",
              "      <td>3.6</td>\n",
              "      <td>1.4</td>\n",
              "      <td>0.2</td>\n",
              "      <td>Iris-setosa</td>\n",
              "    </tr>\n",
              "  </tbody>\n",
              "</table>\n",
              "</div>\n",
              "    <div class=\"colab-df-buttons\">\n",
              "\n",
              "  <div class=\"colab-df-container\">\n",
              "    <button class=\"colab-df-convert\" onclick=\"convertToInteractive('df-dde8b5dd-42e1-40fe-b49d-16b8577d2530')\"\n",
              "            title=\"Convert this dataframe to an interactive table.\"\n",
              "            style=\"display:none;\">\n",
              "\n",
              "  <svg xmlns=\"http://www.w3.org/2000/svg\" height=\"24px\" viewBox=\"0 -960 960 960\">\n",
              "    <path d=\"M120-120v-720h720v720H120Zm60-500h600v-160H180v160Zm220 220h160v-160H400v160Zm0 220h160v-160H400v160ZM180-400h160v-160H180v160Zm440 0h160v-160H620v160ZM180-180h160v-160H180v160Zm440 0h160v-160H620v160Z\"/>\n",
              "  </svg>\n",
              "    </button>\n",
              "\n",
              "  <style>\n",
              "    .colab-df-container {\n",
              "      display:flex;\n",
              "      gap: 12px;\n",
              "    }\n",
              "\n",
              "    .colab-df-convert {\n",
              "      background-color: #E8F0FE;\n",
              "      border: none;\n",
              "      border-radius: 50%;\n",
              "      cursor: pointer;\n",
              "      display: none;\n",
              "      fill: #1967D2;\n",
              "      height: 32px;\n",
              "      padding: 0 0 0 0;\n",
              "      width: 32px;\n",
              "    }\n",
              "\n",
              "    .colab-df-convert:hover {\n",
              "      background-color: #E2EBFA;\n",
              "      box-shadow: 0px 1px 2px rgba(60, 64, 67, 0.3), 0px 1px 3px 1px rgba(60, 64, 67, 0.15);\n",
              "      fill: #174EA6;\n",
              "    }\n",
              "\n",
              "    .colab-df-buttons div {\n",
              "      margin-bottom: 4px;\n",
              "    }\n",
              "\n",
              "    [theme=dark] .colab-df-convert {\n",
              "      background-color: #3B4455;\n",
              "      fill: #D2E3FC;\n",
              "    }\n",
              "\n",
              "    [theme=dark] .colab-df-convert:hover {\n",
              "      background-color: #434B5C;\n",
              "      box-shadow: 0px 1px 3px 1px rgba(0, 0, 0, 0.15);\n",
              "      filter: drop-shadow(0px 1px 2px rgba(0, 0, 0, 0.3));\n",
              "      fill: #FFFFFF;\n",
              "    }\n",
              "  </style>\n",
              "\n",
              "    <script>\n",
              "      const buttonEl =\n",
              "        document.querySelector('#df-dde8b5dd-42e1-40fe-b49d-16b8577d2530 button.colab-df-convert');\n",
              "      buttonEl.style.display =\n",
              "        google.colab.kernel.accessAllowed ? 'block' : 'none';\n",
              "\n",
              "      async function convertToInteractive(key) {\n",
              "        const element = document.querySelector('#df-dde8b5dd-42e1-40fe-b49d-16b8577d2530');\n",
              "        const dataTable =\n",
              "          await google.colab.kernel.invokeFunction('convertToInteractive',\n",
              "                                                    [key], {});\n",
              "        if (!dataTable) return;\n",
              "\n",
              "        const docLinkHtml = 'Like what you see? Visit the ' +\n",
              "          '<a target=\"_blank\" href=https://colab.research.google.com/notebooks/data_table.ipynb>data table notebook</a>'\n",
              "          + ' to learn more about interactive tables.';\n",
              "        element.innerHTML = '';\n",
              "        dataTable['output_type'] = 'display_data';\n",
              "        await google.colab.output.renderOutput(dataTable, element);\n",
              "        const docLink = document.createElement('div');\n",
              "        docLink.innerHTML = docLinkHtml;\n",
              "        element.appendChild(docLink);\n",
              "      }\n",
              "    </script>\n",
              "  </div>\n",
              "\n",
              "\n",
              "<div id=\"df-413a546e-1856-4a30-88b6-347c736816d3\">\n",
              "  <button class=\"colab-df-quickchart\" onclick=\"quickchart('df-413a546e-1856-4a30-88b6-347c736816d3')\"\n",
              "            title=\"Suggest charts\"\n",
              "            style=\"display:none;\">\n",
              "\n",
              "<svg xmlns=\"http://www.w3.org/2000/svg\" height=\"24px\"viewBox=\"0 0 24 24\"\n",
              "     width=\"24px\">\n",
              "    <g>\n",
              "        <path d=\"M19 3H5c-1.1 0-2 .9-2 2v14c0 1.1.9 2 2 2h14c1.1 0 2-.9 2-2V5c0-1.1-.9-2-2-2zM9 17H7v-7h2v7zm4 0h-2V7h2v10zm4 0h-2v-4h2v4z\"/>\n",
              "    </g>\n",
              "</svg>\n",
              "  </button>\n",
              "\n",
              "<style>\n",
              "  .colab-df-quickchart {\n",
              "      --bg-color: #E8F0FE;\n",
              "      --fill-color: #1967D2;\n",
              "      --hover-bg-color: #E2EBFA;\n",
              "      --hover-fill-color: #174EA6;\n",
              "      --disabled-fill-color: #AAA;\n",
              "      --disabled-bg-color: #DDD;\n",
              "  }\n",
              "\n",
              "  [theme=dark] .colab-df-quickchart {\n",
              "      --bg-color: #3B4455;\n",
              "      --fill-color: #D2E3FC;\n",
              "      --hover-bg-color: #434B5C;\n",
              "      --hover-fill-color: #FFFFFF;\n",
              "      --disabled-bg-color: #3B4455;\n",
              "      --disabled-fill-color: #666;\n",
              "  }\n",
              "\n",
              "  .colab-df-quickchart {\n",
              "    background-color: var(--bg-color);\n",
              "    border: none;\n",
              "    border-radius: 50%;\n",
              "    cursor: pointer;\n",
              "    display: none;\n",
              "    fill: var(--fill-color);\n",
              "    height: 32px;\n",
              "    padding: 0;\n",
              "    width: 32px;\n",
              "  }\n",
              "\n",
              "  .colab-df-quickchart:hover {\n",
              "    background-color: var(--hover-bg-color);\n",
              "    box-shadow: 0 1px 2px rgba(60, 64, 67, 0.3), 0 1px 3px 1px rgba(60, 64, 67, 0.15);\n",
              "    fill: var(--button-hover-fill-color);\n",
              "  }\n",
              "\n",
              "  .colab-df-quickchart-complete:disabled,\n",
              "  .colab-df-quickchart-complete:disabled:hover {\n",
              "    background-color: var(--disabled-bg-color);\n",
              "    fill: var(--disabled-fill-color);\n",
              "    box-shadow: none;\n",
              "  }\n",
              "\n",
              "  .colab-df-spinner {\n",
              "    border: 2px solid var(--fill-color);\n",
              "    border-color: transparent;\n",
              "    border-bottom-color: var(--fill-color);\n",
              "    animation:\n",
              "      spin 1s steps(1) infinite;\n",
              "  }\n",
              "\n",
              "  @keyframes spin {\n",
              "    0% {\n",
              "      border-color: transparent;\n",
              "      border-bottom-color: var(--fill-color);\n",
              "      border-left-color: var(--fill-color);\n",
              "    }\n",
              "    20% {\n",
              "      border-color: transparent;\n",
              "      border-left-color: var(--fill-color);\n",
              "      border-top-color: var(--fill-color);\n",
              "    }\n",
              "    30% {\n",
              "      border-color: transparent;\n",
              "      border-left-color: var(--fill-color);\n",
              "      border-top-color: var(--fill-color);\n",
              "      border-right-color: var(--fill-color);\n",
              "    }\n",
              "    40% {\n",
              "      border-color: transparent;\n",
              "      border-right-color: var(--fill-color);\n",
              "      border-top-color: var(--fill-color);\n",
              "    }\n",
              "    60% {\n",
              "      border-color: transparent;\n",
              "      border-right-color: var(--fill-color);\n",
              "    }\n",
              "    80% {\n",
              "      border-color: transparent;\n",
              "      border-right-color: var(--fill-color);\n",
              "      border-bottom-color: var(--fill-color);\n",
              "    }\n",
              "    90% {\n",
              "      border-color: transparent;\n",
              "      border-bottom-color: var(--fill-color);\n",
              "    }\n",
              "  }\n",
              "</style>\n",
              "\n",
              "  <script>\n",
              "    async function quickchart(key) {\n",
              "      const quickchartButtonEl =\n",
              "        document.querySelector('#' + key + ' button');\n",
              "      quickchartButtonEl.disabled = true;  // To prevent multiple clicks.\n",
              "      quickchartButtonEl.classList.add('colab-df-spinner');\n",
              "      try {\n",
              "        const charts = await google.colab.kernel.invokeFunction(\n",
              "            'suggestCharts', [key], {});\n",
              "      } catch (error) {\n",
              "        console.error('Error during call to suggestCharts:', error);\n",
              "      }\n",
              "      quickchartButtonEl.classList.remove('colab-df-spinner');\n",
              "      quickchartButtonEl.classList.add('colab-df-quickchart-complete');\n",
              "    }\n",
              "    (() => {\n",
              "      let quickchartButtonEl =\n",
              "        document.querySelector('#df-413a546e-1856-4a30-88b6-347c736816d3 button');\n",
              "      quickchartButtonEl.style.display =\n",
              "        google.colab.kernel.accessAllowed ? 'block' : 'none';\n",
              "    })();\n",
              "  </script>\n",
              "</div>\n",
              "\n",
              "    </div>\n",
              "  </div>\n"
            ],
            "application/vnd.google.colaboratory.intrinsic+json": {
              "type": "dataframe",
              "variable_name": "df",
              "summary": "{\n  \"name\": \"df\",\n  \"rows\": 150,\n  \"fields\": [\n    {\n      \"column\": 0,\n      \"properties\": {\n        \"dtype\": \"number\",\n        \"std\": 0.828066127977863,\n        \"min\": 4.3,\n        \"max\": 7.9,\n        \"num_unique_values\": 35,\n        \"samples\": [\n          6.2,\n          4.5,\n          5.6\n        ],\n        \"semantic_type\": \"\",\n        \"description\": \"\"\n      }\n    },\n    {\n      \"column\": 1,\n      \"properties\": {\n        \"dtype\": \"number\",\n        \"std\": 0.4335943113621737,\n        \"min\": 2.0,\n        \"max\": 4.4,\n        \"num_unique_values\": 23,\n        \"samples\": [\n          2.3,\n          4.0,\n          3.5\n        ],\n        \"semantic_type\": \"\",\n        \"description\": \"\"\n      }\n    },\n    {\n      \"column\": 2,\n      \"properties\": {\n        \"dtype\": \"number\",\n        \"std\": 1.7644204199522626,\n        \"min\": 1.0,\n        \"max\": 6.9,\n        \"num_unique_values\": 43,\n        \"samples\": [\n          6.7,\n          3.8,\n          3.7\n        ],\n        \"semantic_type\": \"\",\n        \"description\": \"\"\n      }\n    },\n    {\n      \"column\": 3,\n      \"properties\": {\n        \"dtype\": \"number\",\n        \"std\": 0.7631607417008411,\n        \"min\": 0.1,\n        \"max\": 2.5,\n        \"num_unique_values\": 22,\n        \"samples\": [\n          0.2,\n          1.2,\n          1.3\n        ],\n        \"semantic_type\": \"\",\n        \"description\": \"\"\n      }\n    },\n    {\n      \"column\": 4,\n      \"properties\": {\n        \"dtype\": \"category\",\n        \"num_unique_values\": 3,\n        \"samples\": [\n          \"Iris-setosa\",\n          \"Iris-versicolor\",\n          \"Iris-virginica\"\n        ],\n        \"semantic_type\": \"\",\n        \"description\": \"\"\n      }\n    }\n  ]\n}"
            }
          },
          "metadata": {},
          "execution_count": 25
        }
      ],
      "source": [
        "address='https://archive.ics.uci.edu/ml/machine-learning-databases/iris/iris.data'\n",
        "df=pd.read_csv(address ,header=None, encoding='utf-8')\n",
        "df.head()"
      ]
    },
    {
      "cell_type": "code",
      "execution_count": 26,
      "id": "d8681560",
      "metadata": {
        "id": "d8681560"
      },
      "outputs": [],
      "source": [
        "Y=df.iloc[0:100, 4].values\n",
        "Y=np.where(Y=='Iris-setosa', 1., -1.)\n",
        "X = df.iloc[0:100, [0,2]].values"
      ]
    },
    {
      "cell_type": "code",
      "execution_count": 27,
      "id": "609f167f",
      "metadata": {
        "colab": {
          "base_uri": "https://localhost:8080/"
        },
        "id": "609f167f",
        "outputId": "bba084e1-1f86-4c5b-a857-943ff13fe885"
      },
      "outputs": [
        {
          "output_type": "stream",
          "name": "stdout",
          "text": [
            "First X sample (original)  : [5.1 1.4]\n",
            "First X sample (padded)    : [5.1 1.4 1.  1. ]\n",
            "First X sample (normalized): [0.93159426 0.25573176 0.18266554 0.18266554]\n",
            "First features sample      : [ 0.52258229 -0.78539816  0.78539816 -0.26791042  0.26791042]\n"
          ]
        }
      ],
      "source": [
        "print(f\"First X sample (original)  : {X[0]}\")\n",
        "\n",
        "# pad the vectors to size 2^2=4 with constant values\n",
        "padding = np.ones((len(X), 2))\n",
        "X_pad = np.c_[X, padding]\n",
        "print(f\"First X sample (padded)    : {X_pad[0]}\")\n",
        "\n",
        "# normalize each input\n",
        "normalization = np.sqrt(np.sum(X_pad**2, -1))\n",
        "X_norm = (X_pad.T / normalization).T\n",
        "print(f\"First X sample (normalized): {X_norm[0]}\")\n",
        "\n",
        "# the angles for state preparation are the features\n",
        "features = np.array([get_angles(x) for x in X_norm], requires_grad=False)\n",
        "print(f\"First features sample      : {features[0]}\")"
      ]
    },
    {
      "cell_type": "markdown",
      "id": "D5FkNmbWEr0t",
      "metadata": {
        "id": "D5FkNmbWEr0t"
      },
      "source": [
        "The new features are the angles. If we plot the involved dimensions, we see that some of them can actually capture the separation, while others are less clearly able to do so!"
      ]
    },
    {
      "cell_type": "code",
      "execution_count": 28,
      "id": "d8200364",
      "metadata": {
        "colab": {
          "base_uri": "https://localhost:8080/",
          "height": 1000
        },
        "id": "d8200364",
        "outputId": "38ee30a5-c2ba-4960-eba0-bfbd39a1fdb3"
      },
      "outputs": [
        {
          "output_type": "display_data",
          "data": {
            "text/plain": [
              "<Figure size 640x480 with 1 Axes>"
            ],
            "image/png": "[encoded data removed]"
          },
          "metadata": {}
        },
        {
          "output_type": "display_data",
          "data": {
            "text/plain": [
              "<Figure size 640x480 with 1 Axes>"
            ],
            "image/png": "[encoded data removed]"
          },
          "metadata": {}
        },
        {
          "output_type": "display_data",
          "data": {
            "text/plain": [
              "<Figure size 640x480 with 1 Axes>"
            ],
            "image/png": "[encoded data removed]"
          },
          "metadata": {}
        }
      ],
      "source": [
        "plt.figure()\n",
        "plt.scatter(X[:, 0][Y == 1], X[:, 1][Y == 1], c=\"b\", marker=\"o\", ec=\"k\")\n",
        "plt.scatter(X[:, 0][Y == -1], X[:, 1][Y == -1], c=\"r\", marker=\"o\", ec=\"k\")\n",
        "plt.title(\"Original data\")\n",
        "plt.show()\n",
        "\n",
        "plt.figure()\n",
        "dim1 = 0\n",
        "dim2 = 1\n",
        "plt.scatter(X_norm[:, dim1][Y == 1], X_norm[:, dim2][Y == 1], c=\"b\", marker=\"o\", ec=\"k\")\n",
        "plt.scatter(X_norm[:, dim1][Y == -1], X_norm[:, dim2][Y == -1], c=\"r\", marker=\"o\", ec=\"k\")\n",
        "plt.title(f\"Padded and normalised data (dims {dim1} and {dim2})\")\n",
        "plt.show()\n",
        "\n",
        "plt.figure()\n",
        "dim1 = 0\n",
        "dim2 = 3\n",
        "plt.scatter(features[:, dim1][Y == 1], features[:, dim2][Y == 1], c=\"b\", marker=\"o\", ec=\"k\")\n",
        "plt.scatter(features[:, dim1][Y == -1], features[:, dim2][Y == -1], c=\"r\", marker=\"o\", ec=\"k\")\n",
        "plt.title(f\"Feature vectors (dims {dim1} and {dim2})\")\n",
        "plt.show()"
      ]
    },
    {
      "cell_type": "markdown",
      "id": "8rLCNkSJFKp9",
      "metadata": {
        "id": "8rLCNkSJFKp9"
      },
      "source": [
        "In the previous example, we had separate training and test datasets. Here, we want to use our whole dataset and break it into two groups: The training one and the test one. We want to perform the training pipeline and test the performance of our model on the unseen data. We will adjust some hyperparameters."
      ]
    },
    {
      "cell_type": "code",
      "execution_count": 29,
      "id": "ae73af54",
      "metadata": {
        "id": "ae73af54"
      },
      "outputs": [],
      "source": [
        "np.random.seed(42)\n",
        "num_data = len(Y)\n",
        "num_train = int(0.75 * num_data)\n",
        "index = np.random.permutation(range(num_data))\n",
        "feats_train = features[index[:num_train]]\n",
        "Y_train = Y[index[:num_train]]\n",
        "feats_val = features[index[num_train:]]\n",
        "Y_val = Y[index[num_train:]]\n",
        "\n",
        "# We need these later for plotting\n",
        "X_train = X[index[:num_train]]\n",
        "X_val = X[index[num_train:]]"
      ]
    },
    {
      "cell_type": "code",
      "execution_count": 30,
      "id": "f9ae30cf",
      "metadata": {
        "id": "f9ae30cf"
      },
      "outputs": [],
      "source": [
        "num_qubits = 2\n",
        "num_layers = 6\n",
        "\n",
        "weights_init = 0.01 * np.random.randn(num_layers, num_qubits, 3, requires_grad=True)\n",
        "bias_init = np.array(0.0, requires_grad=True)"
      ]
    },
    {
      "cell_type": "markdown",
      "id": "8a331fe8",
      "metadata": {
        "id": "8a331fe8"
      },
      "source": [
        "Several optimizers are available, but a common choice according to ([Optimizers](https://pennylane.ai/blog/2022/06/how-to-choose-your-optimizer/)) is GradientDescentOptimizer! Now this one seems a good choice for some datasets, but sometimes it's very slow in terms of convergence. Let's pursue optimization in action!"
      ]
    },
    {
      "cell_type": "code",
      "execution_count": 32,
      "id": "3d9eae6f",
      "metadata": {
        "colab": {
          "base_uri": "https://localhost:8080/"
        },
        "id": "3d9eae6f",
        "outputId": "c1b4e328-884a-486a-b748-6de12a176e8c"
      },
      "outputs": [
        {
          "output_type": "stream",
          "name": "stdout",
          "text": [
            "Iter:     2 | Cost: 1.27928278 | Acc train: 0.54666667 | Acc validation: 0.36000000\n",
            "Iter:     4 | Cost: 1.04179080 | Acc train: 0.42666667 | Acc validation: 0.36000000\n",
            "Iter:     6 | Cost: 1.16407001 | Acc train: 0.54666667 | Acc validation: 0.36000000\n",
            "Iter:     8 | Cost: 1.03416159 | Acc train: 0.45333333 | Acc validation: 0.64000000\n",
            "Iter:    10 | Cost: 1.35905486 | Acc train: 0.54666667 | Acc validation: 0.36000000\n",
            "Iter:    12 | Cost: 1.29396969 | Acc train: 0.54666667 | Acc validation: 0.36000000\n",
            "Iter:    14 | Cost: 1.04686413 | Acc train: 0.54666667 | Acc validation: 0.36000000\n",
            "Iter:    16 | Cost: 0.99322620 | Acc train: 0.53333333 | Acc validation: 0.48000000\n",
            "Iter:    18 | Cost: 1.08746115 | Acc train: 0.54666667 | Acc validation: 0.36000000\n",
            "Iter:    20 | Cost: 1.24329465 | Acc train: 0.54666667 | Acc validation: 0.36000000\n",
            "Iter:    22 | Cost: 1.03812184 | Acc train: 0.54666667 | Acc validation: 0.36000000\n",
            "Iter:    24 | Cost: 1.14187824 | Acc train: 0.54666667 | Acc validation: 0.36000000\n",
            "Iter:    26 | Cost: 0.91808186 | Acc train: 0.85333333 | Acc validation: 0.72000000\n",
            "Iter:    28 | Cost: 0.95234403 | Acc train: 0.54666667 | Acc validation: 0.36000000\n",
            "Iter:    30 | Cost: 0.86722804 | Acc train: 0.90666667 | Acc validation: 0.72000000\n",
            "Iter:    32 | Cost: 0.81288911 | Acc train: 0.45333333 | Acc validation: 0.68000000\n",
            "Iter:    34 | Cost: 0.88786558 | Acc train: 0.45333333 | Acc validation: 0.64000000\n",
            "Iter:    36 | Cost: 0.80013315 | Acc train: 0.45333333 | Acc validation: 0.64000000\n",
            "Iter:    38 | Cost: 0.74509159 | Acc train: 0.45333333 | Acc validation: 0.68000000\n",
            "Iter:    40 | Cost: 0.59648871 | Acc train: 1.00000000 | Acc validation: 1.00000000\n",
            "Iter:    42 | Cost: 0.60457139 | Acc train: 0.97333333 | Acc validation: 1.00000000\n",
            "Iter:    44 | Cost: 0.64360746 | Acc train: 0.73333333 | Acc validation: 0.56000000\n",
            "Iter:    46 | Cost: 0.69777552 | Acc train: 0.56000000 | Acc validation: 0.40000000\n",
            "Iter:    48 | Cost: 0.54388925 | Acc train: 1.00000000 | Acc validation: 1.00000000\n",
            "Iter:    50 | Cost: 0.53476337 | Acc train: 1.00000000 | Acc validation: 1.00000000\n",
            "Iter:    52 | Cost: 0.58559832 | Acc train: 0.81333333 | Acc validation: 0.60000000\n",
            "Iter:    54 | Cost: 0.49780515 | Acc train: 1.00000000 | Acc validation: 1.00000000\n",
            "Iter:    56 | Cost: 0.49601952 | Acc train: 1.00000000 | Acc validation: 1.00000000\n",
            "Iter:    58 | Cost: 0.50152053 | Acc train: 1.00000000 | Acc validation: 1.00000000\n",
            "Iter:    60 | Cost: 0.53974867 | Acc train: 0.93333333 | Acc validation: 0.92000000\n",
            "Iter:    62 | Cost: 0.67065590 | Acc train: 0.56000000 | Acc validation: 0.40000000\n",
            "Iter:    64 | Cost: 0.47554143 | Acc train: 1.00000000 | Acc validation: 1.00000000\n",
            "Iter:    66 | Cost: 0.46879232 | Acc train: 1.00000000 | Acc validation: 1.00000000\n",
            "Iter:    68 | Cost: 0.46782393 | Acc train: 1.00000000 | Acc validation: 1.00000000\n",
            "Iter:    70 | Cost: 0.46570651 | Acc train: 1.00000000 | Acc validation: 1.00000000\n",
            "Iter:    72 | Cost: 0.46023806 | Acc train: 1.00000000 | Acc validation: 1.00000000\n",
            "Iter:    74 | Cost: 0.53174566 | Acc train: 0.92000000 | Acc validation: 0.92000000\n",
            "Iter:    76 | Cost: 0.54394895 | Acc train: 0.89333333 | Acc validation: 0.80000000\n",
            "Iter:    78 | Cost: 0.51440101 | Acc train: 0.96000000 | Acc validation: 1.00000000\n",
            "Iter:    80 | Cost: 0.50468040 | Acc train: 0.97333333 | Acc validation: 1.00000000\n",
            "Iter:    82 | Cost: 0.45844621 | Acc train: 1.00000000 | Acc validation: 1.00000000\n",
            "Iter:    84 | Cost: 0.46942404 | Acc train: 1.00000000 | Acc validation: 1.00000000\n",
            "Iter:    86 | Cost: 0.50550112 | Acc train: 0.97333333 | Acc validation: 1.00000000\n",
            "Iter:    88 | Cost: 0.46557594 | Acc train: 1.00000000 | Acc validation: 1.00000000\n",
            "Iter:    90 | Cost: 0.47226861 | Acc train: 1.00000000 | Acc validation: 1.00000000\n",
            "Iter:    92 | Cost: 0.50954890 | Acc train: 0.97333333 | Acc validation: 1.00000000\n",
            "Iter:    94 | Cost: 0.46377577 | Acc train: 1.00000000 | Acc validation: 1.00000000\n",
            "Iter:    96 | Cost: 0.45807883 | Acc train: 1.00000000 | Acc validation: 1.00000000\n",
            "Iter:    98 | Cost: 0.47090037 | Acc train: 1.00000000 | Acc validation: 1.00000000\n",
            "Iter:   100 | Cost: 0.46440711 | Acc train: 1.00000000 | Acc validation: 1.00000000\n",
            "Iter:   102 | Cost: 0.45910077 | Acc train: 1.00000000 | Acc validation: 1.00000000\n",
            "Iter:   104 | Cost: 0.57000227 | Acc train: 0.77333333 | Acc validation: 0.60000000\n",
            "Iter:   106 | Cost: 0.48721141 | Acc train: 0.98666667 | Acc validation: 1.00000000\n",
            "Iter:   108 | Cost: 0.55994763 | Acc train: 0.82666667 | Acc validation: 0.68000000\n",
            "Iter:   110 | Cost: 0.45939751 | Acc train: 1.00000000 | Acc validation: 1.00000000\n",
            "Iter:   112 | Cost: 0.51370494 | Acc train: 0.97333333 | Acc validation: 1.00000000\n",
            "Iter:   114 | Cost: 0.47856583 | Acc train: 1.00000000 | Acc validation: 1.00000000\n",
            "Iter:   116 | Cost: 0.47640759 | Acc train: 0.98666667 | Acc validation: 1.00000000\n",
            "Iter:   118 | Cost: 0.48822767 | Acc train: 0.98666667 | Acc validation: 1.00000000\n",
            "Iter:   120 | Cost: 0.47242207 | Acc train: 1.00000000 | Acc validation: 1.00000000\n",
            "Iter:   122 | Cost: 0.45967662 | Acc train: 1.00000000 | Acc validation: 1.00000000\n",
            "Iter:   124 | Cost: 0.50083255 | Acc train: 0.97333333 | Acc validation: 1.00000000\n",
            "Iter:   126 | Cost: 0.46132526 | Acc train: 1.00000000 | Acc validation: 1.00000000\n",
            "Iter:   128 | Cost: 0.45742891 | Acc train: 1.00000000 | Acc validation: 1.00000000\n",
            "Iter:   130 | Cost: 0.46058656 | Acc train: 1.00000000 | Acc validation: 1.00000000\n",
            "Iter:   132 | Cost: 0.45438816 | Acc train: 1.00000000 | Acc validation: 1.00000000\n",
            "Iter:   134 | Cost: 0.47975867 | Acc train: 0.98666667 | Acc validation: 1.00000000\n",
            "Iter:   136 | Cost: 0.52556141 | Acc train: 0.94666667 | Acc validation: 0.92000000\n",
            "Iter:   138 | Cost: 0.45948916 | Acc train: 1.00000000 | Acc validation: 1.00000000\n",
            "Iter:   140 | Cost: 0.45952324 | Acc train: 1.00000000 | Acc validation: 1.00000000\n"
          ]
        }
      ],
      "source": [
        "opt = GradientDescentOptimizer(stepsize=0.05)\n",
        "batch_size = 5\n",
        "\n",
        "# train the variational classifier\n",
        "weights = weights_init\n",
        "bias = bias_init\n",
        "for it in range(140):\n",
        "    # Update the weights by one optimizer step\n",
        "    batch_index = np.random.randint(0, num_train, (batch_size,))\n",
        "    feats_train_batch = feats_train[batch_index]\n",
        "    Y_train_batch = Y_train[batch_index]\n",
        "    weights, bias, _, _ = opt.step(cost, weights, bias, feats_train_batch, Y_train_batch)\n",
        "\n",
        "    # Compute predictions on train and validation set\n",
        "    predictions_train = np.sign(variational_classifier(weights, bias, feats_train.T))\n",
        "    predictions_val = np.sign(variational_classifier(weights, bias, feats_val.T))\n",
        "\n",
        "    # Compute accuracy on train and validation set\n",
        "    acc_train = accuracy(Y_train, predictions_train)\n",
        "    acc_val = accuracy(Y_val, predictions_val)\n",
        "\n",
        "    if (it + 1) % 2 == 0:\n",
        "        _cost = cost(weights, bias, features, Y)\n",
        "        print(\n",
        "            f\"Iter: {it + 1:5d} | Cost: {_cost:0.8f} | \"\n",
        "            f\"Acc train: {acc_train:0.8f} | Acc validation: {acc_val:0.8f}\"\n",
        "        )"
      ]
    },
    {
      "cell_type": "markdown",
      "source": [
        "Running the previous cell multiple times gives different values for training and test accuracies! This may be a direct hint to the limitations of the optimizer in this case. "
      ],
      "metadata": {
        "id": "WMcQNFP-_PR8"
      },
      "id": "WMcQNFP-_PR8"
    },
    {
      "cell_type": "code",
      "execution_count": 33,
      "id": "4bb52a1d",
      "metadata": {
        "colab": {
          "base_uri": "https://localhost:8080/",
          "height": 469
        },
        "id": "4bb52a1d",
        "outputId": "7a981861-70f4-4296-ce04-265028dbae14"
      },
      "outputs": [
        {
          "output_type": "display_data",
          "data": {
            "text/plain": [
              "<Figure size 640x480 with 2 Axes>"
            ],
            "image/png": "[encoded data removed]"
          },
          "metadata": {}
        }
      ],
      "source": [
        "plt.figure()\n",
        "cm = plt.cm.RdBu\n",
        "\n",
        "# make data for decision regions\n",
        "xx, yy = np.meshgrid(np.linspace(4.0, 7.5, 30), np.linspace(0.0, 7.5, 30))\n",
        "X_grid = [np.array([x, y]) for x, y in zip(xx.flatten(), yy.flatten())]\n",
        "\n",
        "# preprocess grid points like data inputs above\n",
        "padding = np.ones((len(X_grid), 2))\n",
        "X_grid = np.c_[X_grid, padding]  # pad each input\n",
        "normalization = np.sqrt(np.sum(X_grid**2, -1))\n",
        "X_grid = (X_grid.T / normalization).T  # normalize each input\n",
        "features_grid = np.array([get_angles(x) for x in X_grid])  # angles are new features\n",
        "predictions_grid = variational_classifier(weights, bias, features_grid.T)\n",
        "Z = np.reshape(predictions_grid, xx.shape)\n",
        "\n",
        "# plot decision regions\n",
        "levels = np.arange(-1, +1.1, 0.1)\n",
        "cnt = plt.contourf(xx, yy, Z, levels=levels, cmap=cm, alpha=0.8, extend=\"both\")\n",
        "plt.contour(xx, yy, Z, levels=[0.0], colors=(\"black\",), linestyles=(\"--\",), linewidths=(0.8,))\n",
        "plt.colorbar(cnt, ticks=[+1, 0, -1])\n",
        "\n",
        "# plot data\n",
        "for color, label in zip([\"b\", \"r\"], [1, -1]):\n",
        "    plot_x = X_train[:, 0][Y_train == label]\n",
        "    plot_y = X_train[:, 1][Y_train == label]\n",
        "    plt.scatter(plot_x, plot_y, c=color, marker=\"o\", ec=\"k\", label=f\"class {label} train\")\n",
        "    plot_x = (X_val[:, 0][Y_val == label],)\n",
        "    plot_y = (X_val[:, 1][Y_val == label],)\n",
        "    plt.scatter(plot_x, plot_y, c=color, marker=\"^\", ec=\"k\", label=f\"class {label} validation\")\n",
        "\n",
        "plt.xlabel('Sepal length (cm)')\n",
        "plt.ylabel('Petal length (cm)')\n",
        "plt.legend()\n",
        "plt.show()"
      ]
    },
    {
      "cell_type": "markdown",
      "id": "JFj0ez7THLVq",
      "metadata": {
        "id": "JFj0ez7THLVq"
      },
      "source": [
        "Indeed VQC found a separation between the datasets both in training and test formats. The choice of the optimizer and other hyperparameters are extremely important for achieving good results."
      ]
    },
    {
      "cell_type": "markdown",
      "id": "odou6Ex-RbZd",
      "metadata": {
        "id": "odou6Ex-RbZd"
      },
      "source": [
        "## ***Further Directions:***"
      ]
    },
    {
      "cell_type": "markdown",
      "id": "fsQ6hX5gLLZn",
      "metadata": {
        "id": "fsQ6hX5gLLZn"
      },
      "source": [
        "We end this task by mentioning another scheme, appropriate for supervised classification problems. As opposed to the variational nature of the above methods (VQC), there are kernel-based methods that can be utilized for (mostly yet not exclusively) classification tasks. One can consider the implementation of Quantum Kernel Support Vector Machine (QK-SVM) and Quantum Variational Support Vector Machine (QV-SVM), according to this Pennylane tutorial ([kernel_training](https://pennylane.ai/qml/demos/tutorial_kernel_based_training/)), and then, the next step that we wish to scrutinize would be the blending of those, meaning Quantum Variational Kernel Support Vector Machine (QVK-SVM), which has been the goal of this paper ([QVK-SVM](https://arxiv.org/abs/2305.06063))."
      ]
    }
  ],
  "metadata": {
    "colab": {
      "provenance": []
    },
    "kernelspec": {
      "display_name": "Python 3 (ipykernel)",
      "language": "python",
      "name": "python3"
    },
    "language_info": {
      "codemirror_mode": {
        "name": "ipython",
        "version": 3
      },
      "file_extension": ".py",
      "mimetype": "text/x-python",
      "name": "python",
      "nbconvert_exporter": "python",
      "pygments_lexer": "ipython3",
      "version": "3.10.9"
    }
  },
  "nbformat": 4,
  "nbformat_minor": 5
}
